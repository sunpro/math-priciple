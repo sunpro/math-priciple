{
 "cells": [
  {
   "cell_type": "markdown",
   "metadata": {},
   "source": [
    "<script type=\"text/javascript\" src=\"http://cdn.mathjax.org/mathjax/latest/MathJax.js?config=default\"></script>\n",
    "## 机器学习数学基础（1）——极大似然估计\n",
    "在刚开始接触机器学习的时候，为了避免复杂艰深的数学推导造成的恐慌（毕竟，被高数虐过千百遍的很多，真正待高数如初恋的不多），大部分的讲解都是跳过了数学推导部分。一般都是说，好，不用管这个式子如何来的，反正我们用了这个式子，效果很好。<br>\n",
    "但是，在深入学习后，要想有所创新，就必须要懂其中的数学基础。那就来吧。先说说极大似然估计。\n",
    "### 基本数学概念\n",
    "1) 总体、个体、样本；<br>\n",
    "**总体：**称研究对象的某项数量指标的值的全体为总体；<br>\n",
    "**个体：**称总体中的每个元素为个体；<br>\n",
    "**样本：**从总体中抽样，抽取的部分个体称为样本。如果样本之间相互独立，则称其为简单样本，简称样本。<br>\n",
    "注意，样本是随机变量，一般用大写字母$X_1,X_2,...,X_n$表示；抽取观测就有确定的值，因此也是确定的值，用小写字母$x_1,x_2,...x_n$表示。<br>\n",
    "2) 统计量：<br>\n",
    "统计量是样本的函数; $\\sum_{i=1}^nX_i, \\sum_{i=1}^n X^2_i $等都是统计量<br>\n",
    "样本的矩有两种，原点矩和中心距。<br>\n",
    "k阶原点矩：$A_k = \\frac{1}{n}\\sum_{i=1}^nX^k_i$<br>\n",
    "k阶中心距：$B_k = \\frac{1}{n}\\sum_{i=1}^n(X_i - \\bar{X} )^k$<br>\n",
    "3) 大数定律：<br>\n",
    "伯努利大数定律、切比雪夫大数定律、辛勤大数定律：  \n",
    "样本的矩依概率收敛到总体的矩   \n",
    "依概率收敛：当n很大时，样本的矩和总体的矩有较大偏差的可能性很小。\n",
    "4) 参数估计  \n",
    "参数指的是分布中的未知参数、未知参数的函数或者特征数；  \n",
    "参数估计问题就是根据样本的对未知参数做出估计。  \n",
    "\n",
    "### 极大似然估计  \n",
    "1. 基本思想：选择参数的估计值，使得观测到的样本出现的可能性最大。\n",
    "因此，其步骤应该是：\n",
    "表示观测到的样本出现的概率，是未知参数的函数，称为似然函数；  \n",
    "似然函数一般是可微的，只要求出驻点，就可以找到最大点。因此对未知函数求导，找导数为0的点。\n",
    "2. 计算步骤\n",
    "设总体$X$的分布函数为$F(x;\\: \\theta_1, \\theta_2, \\cdots, \\theta_k)$，样本$X_1, X_2, \\cdots, X_n$的样本值为$x_1, x_2, \\cdots, x_n$，当$X$为离散型随机变量，概率分布为$P(X=x)=p(x;\\:\\theta_1, \\theta_2, \\cdots, \\theta_k)$，参数$\\theta=(\\theta_1, \\theta_2, \\cdots, \\theta_k)$的极大似然估计步骤：  \n",
    "(1) 计算样本值出现的概率：\n",
    "似然函数$L(\\theta_1, \\theta_2, \\cdots, \\theta_k)=\\prod_{i=1}^np(x;\\:\\theta_1, \\theta_2, \\cdots, \\theta_k)$  \n",
    "(2) 计算似然函数的最大点  \n",
    "要选择参数的值，使样本的值出现的概率达到最大，即求$\\hat{\\theta}=(\\hat{\\theta}_1,\\hat{\\theta}_2,\\cdots, \\hat{\\theta}_k)\\in\\Theta$，使$$L(hat{\\theta}_1,\\hat{\\theta}_2,\\cdots, \\hat{\\theta}_k)=\\max_{\\hat{\\theta}\\in\\Theta}L(\\theta_1, \\theta_2, \\cdots, \\theta_k)$$\n",
    "称\n",
    "$$\\begin{cases} \\hat{\\theta}_1=\\hat{\\theta}_1(x_1,x_2,\\cdots,x_n)\\\\\n",
    "\\hat{\\theta}_2=\\hat{\\theta}_2(x_1,x_2,\\cdots,x_n)\\\\\n",
    "\\qquad\\vdots\\\\\n",
    "\\hat{\\theta}_k=\\hat{\\theta}_k(x_1,x_2,\\cdots,x_n)\\\\\n",
    "\\end{cases}$$\n",
    "(3)如何计算最大值\n",
    "通过求导数"
   ]
  }
 ],
 "metadata": {
  "anaconda-cloud": {},
  "kernelspec": {
   "display_name": "Python [default]",
   "language": "python",
   "name": "python3"
  },
  "language_info": {
   "codemirror_mode": {
    "name": "ipython",
    "version": 3
   },
   "file_extension": ".py",
   "mimetype": "text/x-python",
   "name": "python",
   "nbconvert_exporter": "python",
   "pygments_lexer": "ipython3",
   "version": "3.5.2"
  }
 },
 "nbformat": 4,
 "nbformat_minor": 1
}
